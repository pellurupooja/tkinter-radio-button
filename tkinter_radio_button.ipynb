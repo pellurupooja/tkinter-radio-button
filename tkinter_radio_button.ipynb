{
 "cells": [
  {
   "cell_type": "code",
   "execution_count": null,
   "metadata": {},
   "outputs": [],
   "source": [
    "from tkinter import *\n",
    "root= Tk()\n",
    "\n",
    "root.geometry(\"200x200\")\n",
    "\n",
    "radio=IntVar()\n",
    "def choice():\n",
    "    if (radio.get() == 1):\n",
    "\n",
    "        root.configure(background='red')\n",
    "\n",
    "    elif (radio.get() == 2):\n",
    "\n",
    "        root.configure(background='blue')\n",
    "\n",
    "    elif (radio.get() == 3):\n",
    "\n",
    "        root.configure(background='green')\n",
    "\n",
    "rb1=Radiobutton(root,text='Red', variable=radio,width=25,value=1, command=choice)\n",
    "\n",
    "rb1.grid(row=0)\n",
    "\n",
    "rb2=Radiobutton(root,text='Blue', variable=radio,width=25,value=2, command=choice)\n",
    "\n",
    "rb2.grid(row=1)\n",
    "\n",
    "rb3=Radiobutton(root,text='Green', variable=radio,width=25,value=3, command=choice)\n",
    "\n",
    "rb3.grid(row=3)\n",
    "\n",
    "root.mainloop()"
   ]
  },
  {
   "cell_type": "code",
   "execution_count": null,
   "metadata": {},
   "outputs": [],
   "source": []
  }
 ],
 "metadata": {
  "kernelspec": {
   "display_name": "Python 3",
   "language": "python",
   "name": "python3"
  },
  "language_info": {
   "codemirror_mode": {
    "name": "ipython",
    "version": 3
   },
   "file_extension": ".py",
   "mimetype": "text/x-python",
   "name": "python",
   "nbconvert_exporter": "python",
   "pygments_lexer": "ipython3",
   "version": "3.7.4"
  }
 },
 "nbformat": 4,
 "nbformat_minor": 2
}
